{
 "cells": [
  {
   "cell_type": "code",
   "execution_count": 6,
   "metadata": {},
   "outputs": [],
   "source": [
    "import numpy as np\n",
    "\n",
    "class OUNoise(object):\n",
    "    def __init__(self, action_space, mu=0.0, theta=0.15, max_sigma=0.7, min_sigma=0.4, decay_period=600_000):\n",
    "        self.mu = mu\n",
    "        self.theta = theta\n",
    "        self.sigma = max_sigma\n",
    "        self.max_sigma = max_sigma\n",
    "        self.min_sigma = min_sigma\n",
    "        self.decay_period = decay_period\n",
    "        self.action_dim = action_space\n",
    "        self.reset()\n",
    "\n",
    "    def reset(self):\n",
    "        self.state = np.ones(self.action_dim) * self.mu\n",
    "\n",
    "    def evolve_state(self):\n",
    "        x = self.state\n",
    "        dx = self.theta * (self.mu - x) + self.sigma * np.random.randn(self.action_dim)\n",
    "        self.state = x + dx\n",
    "        return self.state\n",
    "\n",
    "    def get_noise(self, t=0):\n",
    "        ou_state = self.evolve_state()\n",
    "        decaying = float(float(t) / self.decay_period)\n",
    "        self.sigma = max(self.sigma - (self.max_sigma - self.min_sigma) * min(1.0, decaying), self.min_sigma)\n",
    "        print('sigma:', self.sigma, 'state:', ou_state)\n",
    "        return ou_state"
   ]
  },
  {
   "cell_type": "code",
   "execution_count": 7,
   "metadata": {},
   "outputs": [],
   "source": [
    "noise = OUNoise(action_space=2, max_sigma=0.1, min_sigma=0.01, decay_period=500_000)"
   ]
  },
  {
   "cell_type": "code",
   "execution_count": 8,
   "metadata": {},
   "outputs": [
    {
     "name": "stdout",
     "output_type": "stream",
     "text": [
      "sigma: 0.0892 state: [-0.16627995  0.12382876]\n"
     ]
    },
    {
     "data": {
      "text/plain": [
       "array([-0.16627995,  0.12382876])"
      ]
     },
     "execution_count": 8,
     "metadata": {},
     "output_type": "execute_result"
    }
   ],
   "source": [
    "noise.get_noise(t=600_00)"
   ]
  },
  {
   "cell_type": "code",
   "execution_count": 9,
   "metadata": {},
   "outputs": [],
   "source": [
    "from env_utils import GoalManager"
   ]
  },
  {
   "cell_type": "code",
   "execution_count": 10,
   "metadata": {},
   "outputs": [
    {
     "name": "stdout",
     "output_type": "stream",
     "text": [
      "\u001b[92mObstacle name: wall_outler, base pose: (0.0, 0.0)\u001b[0m\n",
      "Coordinates: [[[11.5, -8.425], [11.5, -11.575], [-11.5, -11.575], [-11.5, -8.425]], [[11.575, 11.5], [11.575, -11.5], [8.425, -11.5], [8.425, 11.5]], [[11.5, 11.575], [11.5, 8.425], [-11.5, 8.425], [-11.5, 11.575]], [[-8.425, 11.5], [-8.425, -11.5], [-11.575, -11.5], [-11.575, 11.5]]]\n",
      "\n",
      "\u001b[92mObstacle name: wall_single_5m_1, base pose: (4.0, 9.5)\u001b[0m\n",
      "Coordinates: [[[5.1975, 11.5625], [5.1975, 3.5625], [2.0475000000000003, 3.5625], [2.0475000000000003, 11.5625]]]\n",
      "\n",
      "\u001b[92mObstacle name: wall_single_5m_2, base pose: (5.5, 2.5)\u001b[0m\n",
      "Coordinates: [[[6.6975, 4.5625], [6.6975, -3.4375], [3.5474999999999994, -3.4375], [3.5474999999999994, 4.5625]]]\n",
      "\n",
      "\u001b[92mObstacle name: wall_single_5m_3, base pose: (-2.0, -5.5)\u001b[0m\n",
      "Coordinates: [[[-0.8025, -3.4375], [-0.8025, -11.4375], [-3.9524999999999997, -11.4375], [-3.9524999999999997, -3.4375]]]\n",
      "\n",
      "\u001b[92mObstacle name: wall_single_5m_4, base pose: (-9.5, 1.0)\u001b[0m\n",
      "Coordinates: [[[-8.3025, 3.0625], [-8.3025, -4.9375], [-11.452499999999999, -4.9375], [-11.452499999999999, 3.0625]]]\n",
      "\n",
      "\u001b[92mObstacle name: wall_Lshape_2_1, base pose: (4.5, -3.5)\u001b[0m\n",
      "Coordinates: [[[8.5, -0.5000000000000002], [8.5, -3.6500000000000004], [0.5, -3.6500000000000004], [0.5, -0.5000000000000002]], [[8.5, -0.5], [8.5, -6.5], [5.35, -6.5], [5.35, -0.5]]]\n",
      "\n",
      "\u001b[92mObstacle name: pillar_1_1, base pose: (1.0, 5.0)\u001b[0m\n",
      "Coordinates: [[[1.642, 7.25], [1.642, 4.1], [-2.858, 4.1], [-2.858, 7.25]], [[0.29200000000000004, 7.25], [0.29200000000000004, 2.75], [-2.8579999999999997, 2.75], [-2.8579999999999997, 7.25]], [[1.642, 5.9], [1.642, 2.75], [-2.858, 2.75], [-2.858, 5.9]], [[1.641998, 7.25], [1.641998, 2.75], [-1.5080019999999998, 2.75], [-1.5080019999999998, 7.25]]]\n",
      "\n",
      "\u001b[92mObstacle name: pillar_1_2, base pose: (-5.0, 5.0)\u001b[0m\n",
      "Coordinates: [[[-4.3580000000000005, 7.25], [-4.3580000000000005, 4.1], [-8.858, 4.1], [-8.858, 7.25]], [[-5.707999999999999, 7.25], [-5.707999999999999, 2.75], [-8.857999999999999, 2.75], [-8.857999999999999, 7.25]], [[-4.3580000000000005, 5.9], [-4.3580000000000005, 2.75], [-8.858, 2.75], [-8.858, 5.9]], [[-4.358002, 7.25], [-4.358002, 2.75], [-7.508002, 2.75], [-7.508002, 7.25]]]\n",
      "\n",
      "\u001b[92mObstacle name: pillar_2_1, base pose: (5.0, -5.0)\u001b[0m\n",
      "Coordinates: [[[4.74486, -4.3808], [4.74486, -8.3808], [1.59486, -8.3808], [1.59486, -4.3808]], [[5.59485, -5.2307999999999995], [5.59485, -8.380799999999999], [1.59485, -8.380799999999999], [1.59485, -5.2307999999999995]], [[5.594855, -4.3808], [5.594855, -8.3808], [2.4448549999999996, -8.3808], [2.4448549999999996, -4.3808]], [[5.59485, -4.380801], [5.59485, -7.530801], [1.59485, -7.530801], [1.59485, -4.380801]]]\n",
      "\n"
     ]
    }
   ],
   "source": [
    "GM = GoalManager()"
   ]
  }
 ],
 "metadata": {
  "kernelspec": {
   "display_name": "Python 3",
   "language": "python",
   "name": "python3"
  },
  "language_info": {
   "codemirror_mode": {
    "name": "ipython",
    "version": 3
   },
   "file_extension": ".py",
   "mimetype": "text/x-python",
   "name": "python",
   "nbconvert_exporter": "python",
   "pygments_lexer": "ipython3",
   "version": "3.10.12"
  }
 },
 "nbformat": 4,
 "nbformat_minor": 2
}
