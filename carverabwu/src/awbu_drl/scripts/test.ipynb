{
 "cells": [
  {
   "cell_type": "code",
   "execution_count": 217,
   "metadata": {},
   "outputs": [],
   "source": [
    "import numpy as np\n",
    "\n",
    "class KalmanFilter:\n",
    "    def __init__(self, \n",
    "    #-- State Model--#\n",
    "    F, # State Transition Matrix\n",
    "    G, # Control Input Matrix\n",
    "    Q, # Process Noise Covariance\n",
    "    #-- Measurement Model--#\n",
    "    H, # Measurement Matrix\n",
    "    R, # Measurement Noise Covariance\n",
    "    #-- Initial State--#\n",
    "    P, # Initial Estimate Covariance\n",
    "    x  # Initial State Estimate\n",
    "    ):\n",
    "        # initialize the state model\n",
    "        self.F = F\n",
    "        self.G = G\n",
    "        self.Q = Q\n",
    "        self.H = H\n",
    "        self.R = R\n",
    "        self.P = P\n",
    "        self.x = x\n",
    "\n",
    "        # initialize the state estimate\n",
    "        self.x_hat = self.x\n",
    "        self.P_hat = self.P\n",
    "\n",
    "        self.x_hat_prev = self.x_hat\n",
    "        self.P_hat_prev = self.P_hat\n",
    "\n",
    "        # Convert numpy arrays to matrices\n",
    "        self.F = np.matrix(self.F)\n",
    "        self.G = np.matrix(self.G)\n",
    "        self.Q = np.matrix(self.Q)\n",
    "        self.H = np.matrix(self.H)\n",
    "        self.R = np.matrix(self.R)\n",
    "        self.P = np.matrix(self.P)\n",
    "        self.x = np.matrix(self.x)\n",
    "        self.x_hat = np.matrix(self.x_hat)\n",
    "        self.P_hat = np.matrix(self.P_hat)\n",
    "        self.x_hat_prev = np.matrix(self.x_hat_prev)\n",
    "        self.P_hat_prev = np.matrix(self.P_hat_prev)\n",
    "    \n",
    "    def update(self, \n",
    "        z, # Measurement\n",
    "    ):\n",
    "        # Predict state estimate\n",
    "        # F*Xt-1 + G*Ut\n",
    "        self.x_hat = self.F * self.x_hat_prev # No control input\n",
    "\n",
    "        # Predict estimate covariance\n",
    "        # F*Pt-1*F^T + Q\n",
    "        self.P_hat = self.F * self.P_hat_prev * self.F.T + self.Q\n",
    "\n",
    "        # Calculate Kalman Gain\n",
    "        # P*H^T*(H*P*H^T + R)^-1\n",
    "        K = self.P_hat * self.H.T * np.linalg.inv(self.H * self.P_hat * self.H.T + self.R)\n",
    "\n",
    "        # Update state estimate\n",
    "        # Xt = Xt + K*(Zt - H*Xt)\n",
    "        self.x_hat = self.x_hat + K * (z - self.H * self.x_hat)\n",
    "\n",
    "        # Update estimate covariance\n",
    "        # (I - K*H)*P\n",
    "        self.P_hat = (np.eye(self.P.shape[0]) - K * self.H) * self.P_hat\n",
    "\n",
    "        # Update previous state estimate and covariance\n",
    "        self.x_hat_prev = self.x_hat\n",
    "        self.P_hat_prev = self.P_hat\n",
    "\n",
    "        return self.x_hat\n",
    "\n",
    "    \n",
    "    def get_state_estimate(self):\n",
    "        return self.x_hat\n",
    "\n",
    "\n",
    "# X,y,Vx,Vy,dt state model  \n",
    "dt = 1/30\n",
    "\n",
    "F = np.array([[1, 0, dt, 0],\n",
    "                [0, 1, 0, dt],\n",
    "                [0, 0, 1, 0],\n",
    "                [0, 0, 0, 1]])\n",
    "\n",
    "G = np.array([[0.5*dt**2, 0],\n",
    "                [0, 0.5*dt**2],\n",
    "                [dt, 0],\n",
    "                [0, dt]])\n",
    "\n",
    "Q = np.array([[0.1, 0, 0, 0],\n",
    "                [0, 0.1, 0, 0],\n",
    "                [0, 0, 0.1, 0],\n",
    "                [0, 0, 0, 0.1]])\n",
    "\n",
    "# X,y state model\n",
    "H = np.array([[1, 0, 0, 0],\n",
    "                [0, 1, 0, 0]])\n",
    "\n",
    "R = np.array([[0.01, 0],\n",
    "                [0, 0.01]])\n",
    "\n",
    "P = np.array([[0.1, 0, 0, 0],\n",
    "                [0, 0.1, 0, 0],\n",
    "                [0, 0, 0.1, 0],\n",
    "                [0, 0, 0, 0.1]])\n",
    "\n",
    "x = np.array([[0],\n",
    "                [0],\n",
    "                [0],\n",
    "                [0]])\n",
    "\n",
    "kf = KalmanFilter(F, G, Q, H, R, P, x)"
   ]
  },
  {
   "cell_type": "code",
   "execution_count": 218,
   "metadata": {},
   "outputs": [],
   "source": [
    "# Example observation x,y\n",
    "z = np.array([  [1], # x\n",
    "                [1]]# y\n",
    "                )\n",
    "\n"
   ]
  },
  {
   "cell_type": "code",
   "execution_count": 219,
   "metadata": {},
   "outputs": [],
   "source": [
    "z += 1"
   ]
  },
  {
   "cell_type": "code",
   "execution_count": 244,
   "metadata": {},
   "outputs": [
    {
     "name": "stdout",
     "output_type": "stream",
     "text": [
      "z: [[2]\n",
      " [2]]\n"
     ]
    },
    {
     "data": {
      "text/plain": [
       "matrix([[2.00008793],\n",
       "        [2.00008793],\n",
       "        [0.02879145],\n",
       "        [0.02879145]])"
      ]
     },
     "execution_count": 244,
     "metadata": {},
     "output_type": "execute_result"
    }
   ],
   "source": [
    "print(f'z: {z}')\n",
    "\n",
    "kf.update(z)\n"
   ]
  },
  {
   "cell_type": "code",
   "execution_count": 357,
   "metadata": {},
   "outputs": [
    {
     "data": {
      "text/plain": [
       "matrix([[2.00292322],\n",
       "        [2.00292322],\n",
       "        [0.97692647],\n",
       "        [0.97692647]])"
      ]
     },
     "execution_count": 357,
     "metadata": {},
     "output_type": "execute_result"
    }
   ],
   "source": [
    "# Update the state estimate using control input\n",
    "u = np.array([[1.0], [1.0]])\n",
    "kf.update(z, u)"
   ]
  },
  {
   "cell_type": "code",
   "execution_count": 221,
   "metadata": {},
   "outputs": [
    {
     "name": "stdout",
     "output_type": "stream",
     "text": [
      "state_estimate: [[1.90481227]\n",
      " [1.90481227]\n",
      " [0.03172924]\n",
      " [0.03172924]]\n"
     ]
    }
   ],
   "source": [
    "state_estimate = kf.get_state_estimate()\n",
    "\n",
    "print(f'state_estimate: {state_estimate}')"
   ]
  },
  {
   "cell_type": "code",
   "execution_count": 222,
   "metadata": {},
   "outputs": [],
   "source": [
    "# # Example control input Vx,Vy\n",
    "# u = np.array([[1],\n",
    "#                 [1]])\n",
    "\n",
    "# kf.predict()"
   ]
  }
 ],
 "metadata": {
  "kernelspec": {
   "display_name": "Python 3",
   "language": "python",
   "name": "python3"
  },
  "language_info": {
   "codemirror_mode": {
    "name": "ipython",
    "version": 3
   },
   "file_extension": ".py",
   "mimetype": "text/x-python",
   "name": "python",
   "nbconvert_exporter": "python",
   "pygments_lexer": "ipython3",
   "version": "3.10.12"
  }
 },
 "nbformat": 4,
 "nbformat_minor": 2
}
