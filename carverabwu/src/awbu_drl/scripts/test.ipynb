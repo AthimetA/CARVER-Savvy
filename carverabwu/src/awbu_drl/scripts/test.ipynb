{
 "cells": [
  {
   "cell_type": "code",
   "execution_count": 1,
   "metadata": {},
   "outputs": [
    {
     "data": {
      "text/plain": [
       "4"
      ]
     },
     "execution_count": 1,
     "metadata": {},
     "output_type": "execute_result"
    }
   ],
   "source": [
    "from env_utils import get_simulation_speed, read_stage\n",
    "\n",
    "\n",
    "get_simulation_speed(1)"
   ]
  },
  {
   "cell_type": "code",
   "execution_count": 2,
   "metadata": {},
   "outputs": [
    {
     "data": {
      "text/plain": [
       "1"
      ]
     },
     "execution_count": 2,
     "metadata": {},
     "output_type": "execute_result"
    }
   ],
   "source": [
    "read_stage(stage=1)"
   ]
  },
  {
   "cell_type": "code",
   "execution_count": 3,
   "metadata": {},
   "outputs": [],
   "source": [
    "import socket"
   ]
  },
  {
   "cell_type": "code",
   "execution_count": 4,
   "metadata": {},
   "outputs": [
    {
     "data": {
      "text/plain": [
       "'AthimetPC'"
      ]
     },
     "execution_count": 4,
     "metadata": {},
     "output_type": "execute_result"
    }
   ],
   "source": [
    "socket.gethostname()"
   ]
  },
  {
   "cell_type": "code",
   "execution_count": 1,
   "metadata": {},
   "outputs": [
    {
     "ename": "",
     "evalue": "",
     "output_type": "error",
     "traceback": [
      "\u001b[1;31mThe Kernel crashed while executing code in the current cell or a previous cell. \n",
      "\u001b[1;31mPlease review the code in the cell(s) to identify a possible cause of the failure. \n",
      "\u001b[1;31mClick <a href='https://aka.ms/vscodeJupyterKernelCrash'>here</a> for more info. \n",
      "\u001b[1;31mView Jupyter <a href='command:jupyter.viewOutput'>log</a> for further details."
     ]
    }
   ],
   "source": [
    "import sys\n",
    "from pyqtgraph.Qt import QtGui\n",
    "import pyqtgraph as pg\n",
    "\n",
    "class MyApplication(QtGui.QGuiApplication):\n",
    "    def __init__(self, *args, **kwargs):\n",
    "        super(MyApplication, self).__init__(*args, **kwargs)\n",
    "\n",
    "        time = [1, 2, 3, 4, 5, 6, 7, 8, 9, 10]\n",
    "        bananas = [2, 6, 19, 29, 33, 45, 60, 70, 80, 96]\n",
    "\n",
    "        self.win = pg.GraphicsLayoutWidget() # you added this \n",
    "        # self.win = pg.GraphicsWindow() you have removed this \n",
    "        self.win.resize(1000, 600)\n",
    "        self.plot = self.win.addPlot(title='Working')\n",
    "\n",
    "        self.curve = self.plot.plot()\n",
    "        self.curve.setData(x=time, y=bananas)\n",
    "        self.win.show() # you need to add this \n",
    "\n",
    "\n",
    "app = MyApplication()\n"
   ]
  }
 ],
 "metadata": {
  "kernelspec": {
   "display_name": "Python 3",
   "language": "python",
   "name": "python3"
  },
  "language_info": {
   "codemirror_mode": {
    "name": "ipython",
    "version": 3
   },
   "file_extension": ".py",
   "mimetype": "text/x-python",
   "name": "python",
   "nbconvert_exporter": "python",
   "pygments_lexer": "ipython3",
   "version": "3.10.12"
  }
 },
 "nbformat": 4,
 "nbformat_minor": 2
}
