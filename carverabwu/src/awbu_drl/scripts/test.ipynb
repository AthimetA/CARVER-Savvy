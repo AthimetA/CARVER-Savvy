{
 "cells": [
  {
   "cell_type": "code",
   "execution_count": 7,
   "metadata": {},
   "outputs": [],
   "source": [
    "import numpy as np\n",
    "\n",
    "class OUNoise(object):\n",
    "    def __init__(self, action_space, mu=0.0, theta=0.15, max_sigma=0.7, min_sigma=0.4, decay_period=600_000):\n",
    "        self.mu = mu\n",
    "        self.theta = theta\n",
    "        self.sigma = max_sigma\n",
    "        self.max_sigma = max_sigma\n",
    "        self.min_sigma = min_sigma\n",
    "        self.decay_period = decay_period\n",
    "        self.action_dim = action_space\n",
    "        self.reset()\n",
    "\n",
    "    def reset(self):\n",
    "        self.state = np.ones(self.action_dim) * self.mu\n",
    "\n",
    "    def evolve_state(self):\n",
    "        x = self.state\n",
    "        dx = self.theta * (self.mu - x) + self.sigma * np.random.randn(self.action_dim)\n",
    "        self.state = x + dx\n",
    "        return self.state\n",
    "\n",
    "    def get_noise(self, t=0):\n",
    "        ou_state = self.evolve_state()\n",
    "        decaying = float(float(t) / self.decay_period)\n",
    "        self.sigma = max(self.sigma - (self.max_sigma - self.min_sigma) * min(1.0, decaying), self.min_sigma)\n",
    "        print('sigma:', self.sigma, 'state:', ou_state)\n",
    "        return ou_state"
   ]
  },
  {
   "cell_type": "code",
   "execution_count": 8,
   "metadata": {},
   "outputs": [],
   "source": [
    "noise = OUNoise(action_space=2, max_sigma=0.1, min_sigma=0.01, decay_period=500_000)"
   ]
  },
  {
   "cell_type": "code",
   "execution_count": 9,
   "metadata": {},
   "outputs": [
    {
     "name": "stdout",
     "output_type": "stream",
     "text": [
      "sigma: 0.0892 state: [-0.1550834  -0.00026911]\n"
     ]
    },
    {
     "data": {
      "text/plain": [
       "array([-0.1550834 , -0.00026911])"
      ]
     },
     "execution_count": 9,
     "metadata": {},
     "output_type": "execute_result"
    }
   ],
   "source": [
    "noise.get_noise(t=600_00)"
   ]
  },
  {
   "cell_type": "code",
   "execution_count": 10,
   "metadata": {},
   "outputs": [],
   "source": [
    "from env_utils import GoalManager"
   ]
  },
  {
   "cell_type": "code",
   "execution_count": 11,
   "metadata": {},
   "outputs": [
    {
     "name": "stdout",
     "output_type": "stream",
     "text": [
      "\u001b[92mObstacle name: wall_outler, base pose: (0.0, 0.0, 0.0)\u001b[0m\n",
      "Coordinates: [[[11.5, -8.425], [11.5, -11.575], [-11.5, -11.575], [-11.5, -8.425]], [[21.5, 1.575], [21.5, -1.575], [-1.5, -1.575], [-1.5, 1.575]], [[11.5, 11.575], [11.5, 8.425], [-11.5, 8.425], [-11.5, 11.575]], [[1.5, 1.575], [1.5, -1.575], [-21.5, -1.575], [-21.5, 1.575]]]\n",
      "\n",
      "\u001b[92mObstacle name: wall_single_5m_1, base pose: (3.5, 7.5, 1.5708)\u001b[0m\n",
      "Coordinates: [[[5.125, 11.5], [5.125, 3.5], [1.875, 3.5], [1.875, 11.5]]]\n",
      "\n",
      "\u001b[92mObstacle name: wall_single_5m_2, base pose: (7.5, 1.5, 0.0)\u001b[0m\n",
      "Coordinates: [[[11.5, 3.125], [11.5, -0.125], [3.5, -0.125], [3.5, 3.125]]]\n",
      "\n",
      "\u001b[92mObstacle name: wall_single_5m_3, base pose: (-2.0, -7.5, 1.5708)\u001b[0m\n",
      "Coordinates: [[[-0.375, -3.5], [-0.375, -11.5], [-3.625, -11.5], [-3.625, -3.5]]]\n",
      "\n",
      "\u001b[92mObstacle name: wall_single_5m_4, base pose: (-6.0, -1.5, 1.5708)\u001b[0m\n",
      "Coordinates: [[[-4.375, 2.5], [-4.375, -5.5], [-7.625, -5.5], [-7.625, 2.5]]]\n",
      "\n",
      "\u001b[92mObstacle name: wall_Lshape_2_1, base pose: (4.5, -3.5, 0.0)\u001b[0m\n",
      "Coordinates: [[[8.5, -0.5000000000000002], [8.5, -3.6500000000000004], [0.5, -3.6500000000000004], [0.5, -0.5000000000000002]], [[9.925, -1.925], [9.925, -5.075], [3.925, -5.075], [3.925, -1.925]]]\n",
      "\n",
      "\u001b[92mObstacle name: pillar_1_1, base pose: (1.0, 5.0, 0.0)\u001b[0m\n",
      "Coordinates: [[[1.642, 7.25], [1.642, 4.1], [-2.858, 4.1], [-2.858, 7.25]], [[0.9670000000000001, 6.575], [0.9670000000000001, 3.425], [-3.533, 3.425], [-3.533, 6.575]], [[1.642, 5.9], [1.642, 2.75], [-2.858, 2.75], [-2.858, 5.9]], [[2.316998, 6.575], [2.316998, 3.425], [-2.183002, 3.425], [-2.183002, 6.575]]]\n",
      "\n",
      "\u001b[92mObstacle name: pillar_1_2, base pose: (-5.0, 5.0, 0.0)\u001b[0m\n",
      "Coordinates: [[[-4.3580000000000005, 7.25], [-4.3580000000000005, 4.1], [-8.858, 4.1], [-8.858, 7.25]], [[-5.0329999999999995, 6.575], [-5.0329999999999995, 3.425], [-9.533, 3.425], [-9.533, 6.575]], [[-4.3580000000000005, 5.9], [-4.3580000000000005, 2.75], [-8.858, 2.75], [-8.858, 5.9]], [[-3.683002, 6.575], [-3.683002, 3.425], [-8.183002, 3.425], [-8.183002, 6.575]]]\n",
      "\n",
      "\u001b[92mObstacle name: pillar_2_1, base pose: (5.0, -5.0, 0.0)\u001b[0m\n",
      "Coordinates: [[[5.16986, -4.8058], [5.16986, -7.9558], [1.16986, -7.9558], [1.16986, -4.8058]], [[5.59485, -5.2307999999999995], [5.59485, -8.380799999999999], [1.59485, -8.380799999999999], [1.59485, -5.2307999999999995]], [[6.019855, -4.8058], [6.019855, -7.9558], [2.0198549999999997, -7.9558], [2.0198549999999997, -4.8058]], [[5.59485, -4.380801], [5.59485, -7.530801], [1.59485, -7.530801], [1.59485, -4.380801]]]\n",
      "\n"
     ]
    }
   ],
   "source": [
    "GM = GoalManager()"
   ]
  },
  {
   "cell_type": "code",
   "execution_count": 27,
   "metadata": {},
   "outputs": [
    {
     "data": {
      "text/plain": [
       "1"
      ]
     },
     "execution_count": 27,
     "metadata": {},
     "output_type": "execute_result"
    }
   ],
   "source": [
    "testval = 10\n",
    "\n",
    "np.clip(testval, 0, 1)"
   ]
  },
  {
   "cell_type": "code",
   "execution_count": 28,
   "metadata": {},
   "outputs": [
    {
     "data": {
      "text/plain": [
       "10"
      ]
     },
     "execution_count": 28,
     "metadata": {},
     "output_type": "execute_result"
    }
   ],
   "source": [
    "testval"
   ]
  }
 ],
 "metadata": {
  "kernelspec": {
   "display_name": "Python 3",
   "language": "python",
   "name": "python3"
  },
  "language_info": {
   "codemirror_mode": {
    "name": "ipython",
    "version": 3
   },
   "file_extension": ".py",
   "mimetype": "text/x-python",
   "name": "python",
   "nbconvert_exporter": "python",
   "pygments_lexer": "ipython3",
   "version": "3.10.12"
  }
 },
 "nbformat": 4,
 "nbformat_minor": 2
}
