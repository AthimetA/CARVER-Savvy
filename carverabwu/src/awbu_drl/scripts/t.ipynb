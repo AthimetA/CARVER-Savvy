{
 "cells": [
  {
   "cell_type": "code",
   "execution_count": 7,
   "metadata": {},
   "outputs": [],
   "source": [
    "import xml.etree.ElementTree as ET\n",
    "import pygraphviz as pgv\n",
    "\n",
    "def build_graph(element, graph, parent=None):\n",
    "    node_label = element.tag\n",
    "    if parent is not None:\n",
    "        graph.add_edge(parent, node_label)\n",
    "    for child in element:\n",
    "        build_graph(child, graph, node_label)\n",
    "\n",
    "# Parse the XML file\n",
    "tree = ET.parse('/home/athimeta/CARVER-Savvy/carverabwu/src/abwu_gazebo/worlds/abwu_drl_base.world')\n",
    "root = tree.getroot()\n",
    "\n",
    "# Create a directed graph\n",
    "graph = pgv.AGraph(strict=False, directed=True)\n",
    "\n",
    "# Build the graph\n",
    "build_graph(root, graph)\n",
    "\n",
    "# Export the graph to a PNG file\n",
    "graph.layout(prog='dot')  # Use dot layout engine\n",
    "graph.draw('xml_structure.png')\n"
   ]
  },
  {
   "cell_type": "code",
   "execution_count": null,
   "metadata": {},
   "outputs": [],
   "source": []
  },
  {
   "cell_type": "code",
   "execution_count": 2,
   "metadata": {},
   "outputs": [
    {
     "name": "stdout",
     "output_type": "stream",
     "text": [
      "/home/athimeta/CARVER-Savvy/carverabwu\n",
      "/home/athimeta/CARVER-Savvy/carverabwu/src/abwu_gazebo/models\n",
      "/home/athimeta/CARVER-Savvy/carverabwu/src/abwu_gazebo/models:/home/athimeta/CARVER-Savvy/carverabwu/src/testbot_description/description\n",
      ":/home/athimeta/CARVER-Savvy/carverabwu/src/abwu_gazebo/models/turtlebot3_drl_world/obstacle_plugin/lib\n"
     ]
    }
   ],
   "source": [
    "import os\n",
    "\n",
    "print(os.environ['ABWUDRL_BASE_PATH'])\n",
    "print(os.environ['GAZEBO_MODEL_PATH'])\n",
    "\n",
    "print(os.environ['GAZEBO_ROBOT_MODEL_PATH'])\n",
    "print(os.environ['GAZEBO_PLUGIN_PATH'])\n"
   ]
  },
  {
   "cell_type": "code",
   "execution_count": 3,
   "metadata": {},
   "outputs": [
    {
     "data": {
      "text/plain": [
       "[inf, inf, inf, inf, inf, inf, inf, inf, inf, inf]"
      ]
     },
     "execution_count": 3,
     "metadata": {},
     "output_type": "execute_result"
    }
   ],
   "source": [
    "import numpy as np\n",
    "MAX_NUMBER_OBSTACLES = 10\n",
    "[np.inf] * MAX_NUMBER_OBSTACLES"
   ]
  }
 ],
 "metadata": {
  "kernelspec": {
   "display_name": "Python 3",
   "language": "python",
   "name": "python3"
  },
  "language_info": {
   "codemirror_mode": {
    "name": "ipython",
    "version": 3
   },
   "file_extension": ".py",
   "mimetype": "text/x-python",
   "name": "python",
   "nbconvert_exporter": "python",
   "pygments_lexer": "ipython3",
   "version": "3.10.12"
  }
 },
 "nbformat": 4,
 "nbformat_minor": 2
}
