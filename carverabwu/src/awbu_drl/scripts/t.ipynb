{
 "cells": [
  {
   "cell_type": "code",
   "execution_count": 1,
   "metadata": {},
   "outputs": [],
   "source": [
    "import os"
   ]
  },
  {
   "cell_type": "code",
   "execution_count": 2,
   "metadata": {},
   "outputs": [],
   "source": [
    "import xml.etree.ElementTree as ET\n",
    "import pygraphviz as pgv\n",
    "\n",
    "def build_graph(element, graph, parent=None):\n",
    "    node_label = element.tag\n",
    "    if parent is not None:\n",
    "        graph.add_edge(parent, node_label)\n",
    "    for child in element:\n",
    "        build_graph(child, graph, node_label)\n",
    "\n",
    "# Parse the XML file\n",
    "path = os.environ['SIM_MODEL_PATH'] + 'wall_outler/model.sdf'\n",
    "# tree = ET.parse('/home/athimeta/CARVER-Savvy/carverabwu/src/abwu_gazebo/worlds/abwu_drl_base.world')\n",
    "tree = ET.parse(path)\n",
    "root = tree.getroot()\n",
    "\n",
    "# Create a directed graph\n",
    "graph = pgv.AGraph(strict=False, directed=True)\n",
    "\n",
    "# Build the graph\n",
    "build_graph(root, graph)\n",
    "\n",
    "# Export the graph to a PNG file\n",
    "graph.layout(prog='dot')  # Use dot layout engine\n",
    "graph.draw('xml_structure.png')\n"
   ]
  },
  {
   "cell_type": "code",
   "execution_count": 13,
   "metadata": {},
   "outputs": [
    {
     "name": "stdout",
     "output_type": "stream",
     "text": [
      "WALL: Wall_1 pose: ['-0', '-7.425', '0', '0', '-0', '0'], size: ['15', '0.15', '2.5']\n",
      "WALL: Wall_2 pose: ['7.425', '-0', '0', '0', '-0', '1.5708'], size: ['15', '0.15', '2.5']\n",
      "WALL: Wall_3 pose: ['-0', '7.425', '0', '0', '-0', '3.14159'], size: ['15', '0.15', '2.5']\n",
      "WALL: Wall_4 pose: ['-7.425', '-0', '0', '0', '-0', '-1.5708'], size: ['15', '0.15', '2.5']\n"
     ]
    },
    {
     "data": {
      "text/plain": [
       "[[[7.5, -7.35], [7.5, -7.5], [-7.5, -7.5], [-7.5, -7.35]],\n",
       " [[7.5, 7.5], [7.5, -7.5], [7.35, -7.5], [7.35, 7.5]],\n",
       " [[7.5, 7.5], [7.5, 7.35], [-7.5, 7.35], [-7.5, 7.5]],\n",
       " [[-7.35, 7.5], [-7.35, -7.5], [-7.5, -7.5], [-7.5, 7.5]]]"
      ]
     },
     "execution_count": 13,
     "metadata": {},
     "output_type": "execute_result"
    }
   ],
   "source": [
    "NO_GOAL_SPAWN_MARGIN = 0.0\n",
    "path = os.environ['SIM_MODEL_PATH'] + 'wall_outler/model.sdf'\n",
    "tree = ET.parse(path)\n",
    "root = tree.getroot()\n",
    "obstacle_coordinates = []\n",
    "pos_list = []\n",
    "size_list = []\n",
    "for wall in root.find('model').findall('link'):\n",
    "    pose = wall.find('pose').text.split(\" \")\n",
    "    size = wall.find('collision').find('geometry').find('box').find('size').text.split()\n",
    "    pos_list.append(pose)\n",
    "    size_list.append(size)\n",
    "    pose_x = float(pose[0])\n",
    "    pose_y = float(pose[1])\n",
    "    # Check if the wall is rotated\n",
    "    # If the wall is rotated the size is swapped for x and y\n",
    "    # rotation = 0 means horizontal wall\n",
    "    # rotation != 0 means vertical wall\n",
    "    rotation = float(pose[-1])\n",
    "    if rotation == 0 or rotation == 3.14159: # if the wall is not rotated the size is correct\n",
    "        size_x = float(size[0]) + NO_GOAL_SPAWN_MARGIN * 2\n",
    "        size_y = float(size[1]) + NO_GOAL_SPAWN_MARGIN * 2\n",
    "    else: # if the wall is rotated the size is swapped for x and y\n",
    "        size_x = float(size[1]) + NO_GOAL_SPAWN_MARGIN * 2\n",
    "        size_y = float(size[0]) + NO_GOAL_SPAWN_MARGIN * 2\n",
    "    point_1 = [pose_x + size_x / 2, pose_y + size_y / 2]\n",
    "    point_2 = [point_1[0], point_1[1] - size_y]\n",
    "    point_3 = [point_1[0] - size_x, point_1[1] - size_y ]\n",
    "    point_4 = [point_1[0] - size_x, point_1[1] ]\n",
    "    wall_points = [point_1, point_2, point_3, point_4]\n",
    "    obstacle_coordinates.append(wall_points)\n",
    "    wall_name = wall.get('name')\n",
    "    print(f'WALL: {wall_name} pose: {pose}, size: {size}')\n",
    "\n",
    "obstacle_coordinates\n"
   ]
  },
  {
   "cell_type": "code",
   "execution_count": 21,
   "metadata": {},
   "outputs": [
    {
     "data": {
      "image/png": "[encoded data removed]",
      "text/plain": [
       "<Figure size 640x480 with 1 Axes>"
      ]
     },
     "metadata": {},
     "output_type": "display_data"
    }
   ],
   "source": [
    "import matplotlib.pyplot as plt\n",
    "\n",
    "def draw_wall(ax, pose, size, color='black'):\n",
    "  \"\"\"\n",
    "  This function draws a wall on a matplotlib axes object based on pose and size data.\n",
    "\n",
    "  Args:\n",
    "      ax: The matplotlib axes object where the wall will be drawn.\n",
    "      pose: A list containing pose data (assumed rotation is at index 2).\n",
    "      size: A list containing wall dimensions (width, thickness, height).\n",
    "      color: The color of the wall (defaults to black).\n",
    "  \"\"\"\n",
    "\n",
    "  # Extract data from pose and size lists\n",
    "  pose_rotation = float(pose[-1])\n",
    "  pose_x = float(pose[0])\n",
    "  pose_y = float(pose[1])\n",
    "  wall_width = float(size[0])\n",
    "  wall_thickness = float(size[1])\n",
    "  wall_height = float(size[2])\n",
    "\n",
    "  # Adjust wall position based on rotation\n",
    "  if pose_rotation == 0 or pose_rotation == 3.14159:\n",
    "    # Wall is vertical\n",
    "    wall_start_x = pose_x - wall_width / 2\n",
    "    wall_start_y = pose_y - wall_height / 2\n",
    "  else:\n",
    "    # Wall is horizontal\n",
    "    wall_start_x = pose_x - wall_height / 2\n",
    "    wall_start_y = pose_y - wall_thickness / 2\n",
    "    # Swap wall width and thickness to match the rotated position\n",
    "\n",
    "  # Create rectangle object for the wall\n",
    "  wall_rectangle = plt.Rectangle((wall_start_x, wall_start_y), wall_width, wall_height, color=color)\n",
    "\n",
    "  # Add wall rectangle to the plot\n",
    "  ax.add_patch(wall_rectangle)\n",
    "\n",
    "# Define map dimensions (meters)\n",
    "map_width = 40\n",
    "map_height = 40\n",
    "\n",
    "# Create figure and axes\n",
    "fig, ax = plt.subplots()\n",
    "\n",
    "# Set limits slightly bigger than map dimensions (for visualization purposes)\n",
    "plt.xlim(-map_width/2 - map_width * 0.1, map_width/2 + map_width * 0.1)\n",
    "plt.ylim(-map_height/2 - map_height * 0.1, map_height/2 + map_height * 0.1)\n",
    "\n",
    "# Set aspect ratio to be equal\n",
    "ax.set_aspect(\"equal\")\n",
    "\n",
    "# Create rectangle object with origin at center\n",
    "rectangle = plt.Rectangle((-map_width/2, -map_height/2), map_width, map_height, color='gray', alpha=0.5)\n",
    "\n",
    "# Add rectangle to the figure\n",
    "ax.add_patch(rectangle)\n",
    "\n",
    "clors = ['red', 'blue', 'green', 'orange', 'purple', 'brown', 'pink', 'gray', 'olive', 'cyan']\n",
    "\n",
    "for i, (pose, size) in enumerate(zip(pos_list, size_list)):\n",
    "  # Draw wall\n",
    "  draw_wall(ax, pose, size, color=clors[i])\n",
    "\n",
    "# Set labels\n",
    "plt.xlabel('X (meters)')\n",
    "plt.ylabel('Y (meters)')\n",
    "\n",
    "# Set title (optional)\n",
    "plt.title(f'{map_width}x{map_height} meters map')\n",
    "\n",
    "# Show the plot\n",
    "plt.grid(True)\n",
    "plt.show()"
   ]
  },
  {
   "cell_type": "code",
   "execution_count": 22,
   "metadata": {},
   "outputs": [],
   "source": [
    "import math\n",
    "\n",
    "def draw_wall(ax, pose, size, color='black'):\n",
    "  \"\"\"\n",
    "  This function draws a wall on a matplotlib axes object based on pose, size, and rotation data.\n",
    "\n",
    "  Args:\n",
    "      ax: The matplotlib axes object where the wall will be drawn.\n",
    "      pose: A list containing pose data (assumed rotation is at index 2).\n",
    "      size: A list containing wall dimensions (width, thickness, height).\n",
    "      color: The color of the wall (defaults to black).\n",
    "  \"\"\"\n",
    "\n",
    "  # Extract data from pose and size lists\n",
    "  pose_rotation = math.radians(float(pose[-1]))  # Convert rotation to radians\n",
    "  pose_x = float(pose[0])\n",
    "  pose_y = float(pose[1])\n",
    "  wall_width = float(size[0])\n",
    "  wall_thickness = float(size[1])\n",
    "  wall_height = float(size[2])\n",
    "\n",
    "  # Calculate center point of the wall\n",
    "  wall_center_x = pose_x\n",
    "  wall_center_y = pose_y\n",
    "\n",
    "  # Handle rotation using mathematical transformations\n",
    "  # (This is a simplified example, more complex logic might be needed in specific cases)\n",
    "  rotated_width = wall_width * math.cos(pose_rotation) + wall_height * math.sin(pose_rotation)\n",
    "  rotated_height = wall_height * math.cos(pose_rotation) - wall_width * math.sin(pose_rotation)\n",
    "\n",
    "  # Calculate start point based on rotated dimensions and center\n",
    "  wall_start_x = wall_center_x - rotated_width / 2\n",
    "  wall_start_y = wall_center_y - rotated_height / 2\n",
    "\n",
    "  # Create rectangle object for the rotated wall\n",
    "  wall_rectangle = plt.Rectangle((wall_start_x, wall_start_y), rotated_width, rotated_height, color=color)\n",
    "\n",
    "  # Add wall rectangle to the plot\n",
    "  ax.add_patch(wall_rectangle)\n"
   ]
  },
  {
   "cell_type": "code",
   "execution_count": 23,
   "metadata": {},
   "outputs": [
    {
     "name": "stdout",
     "output_type": "stream",
     "text": [
      "/home/athimeta/CARVER-Savvy/carverabwu\n",
      ":/home/athimeta/CARVER-Savvy/carverabwu/src/abwu_gazebo/models\n",
      ":/home/athimeta/CARVER-Savvy/carverabwu/src/abwu_gazebo/models\n",
      ":/home/athimeta/CARVER-Savvy/carverabwu/src/abwu_gazebo/models/turtlebot3_drl_world/obstacle_plugin/lib\n"
     ]
    }
   ],
   "source": [
    "import os\n",
    "\n",
    "print(os.environ['ABWUDRL_BASE_PATH'])\n",
    "print(os.environ['GAZEBO_MODEL_PATH'])\n",
    "\n",
    "print(os.environ['GAZEBO_MODEL_PATH'])\n",
    "print(os.environ['GAZEBO_PLUGIN_PATH'])\n"
   ]
  },
  {
   "cell_type": "code",
   "execution_count": 24,
   "metadata": {},
   "outputs": [
    {
     "data": {
      "text/plain": [
       "[inf, inf, inf, inf, inf, inf, inf, inf, inf, inf]"
      ]
     },
     "execution_count": 24,
     "metadata": {},
     "output_type": "execute_result"
    }
   ],
   "source": [
    "import numpy as np\n",
    "MAX_NUMBER_OBSTACLES = 10\n",
    "[np.inf] * MAX_NUMBER_OBSTACLES"
   ]
  }
 ],
 "metadata": {
  "kernelspec": {
   "display_name": "Python 3",
   "language": "python",
   "name": "python3"
  },
  "language_info": {
   "codemirror_mode": {
    "name": "ipython",
    "version": 3
   },
   "file_extension": ".py",
   "mimetype": "text/x-python",
   "name": "python",
   "nbconvert_exporter": "python",
   "pygments_lexer": "ipython3",
   "version": "3.10.12"
  }
 },
 "nbformat": 4,
 "nbformat_minor": 2
}
