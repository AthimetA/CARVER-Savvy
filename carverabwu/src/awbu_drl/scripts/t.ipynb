{
 "cells": [
  {
   "cell_type": "code",
   "execution_count": 1,
   "metadata": {},
   "outputs": [
    {
     "name": "stdout",
     "output_type": "stream",
     "text": [
      "/home/athimeta/CARVER-Savvy/carverabwu/install/testbot_description/share/testbot_description/description/sensor_lidar.xacro\n"
     ]
    }
   ],
   "source": [
    "import xml.etree.ElementTree as ET\n",
    "\n",
    "from launch_ros.substitutions import FindPackageShare\n",
    "\n",
    "\n",
    "pagkage_name = 'testbot_description'\n",
    "folder_name = 'description'\n",
    "file_name = 'sensor_lidar.xacro'\n",
    "\n",
    "fpshare = FindPackageShare(pagkage_name)\n",
    "\n",
    "path = fpshare.find(package_name=pagkage_name) + '/' + folder_name + '/' + file_name\n",
    "\n",
    "print(path)"
   ]
  },
  {
   "cell_type": "code",
   "execution_count": 2,
   "metadata": {},
   "outputs": [
    {
     "name": "stdout",
     "output_type": "stream",
     "text": [
      "/home/athimeta/CARVER-Savvy/carverabwu\n",
      "/home/athimeta/CARVER-Savvy/carverabwu/src/abwu_gazebo/models\n",
      "/home/athimeta/CARVER-Savvy/carverabwu/src/abwu_gazebo/models:/home/athimeta/CARVER-Savvy/carverabwu/src/testbot_description/description\n",
      ":/home/athimeta/CARVER-Savvy/carverabwu/src/abwu_gazebo/models/turtlebot3_drl_world/obstacle_plugin/lib\n"
     ]
    }
   ],
   "source": [
    "import os\n",
    "\n",
    "print(os.environ['ABWUDRL_BASE_PATH'])\n",
    "print(os.environ['GAZEBO_MODEL_PATH'])\n",
    "\n",
    "print(os.environ['GAZEBO_ROBOT_MODEL_PATH'])\n",
    "print(os.environ['GAZEBO_PLUGIN_PATH'])\n"
   ]
  },
  {
   "cell_type": "code",
   "execution_count": 3,
   "metadata": {},
   "outputs": [
    {
     "data": {
      "text/plain": [
       "[inf, inf, inf, inf, inf, inf, inf, inf, inf, inf]"
      ]
     },
     "execution_count": 3,
     "metadata": {},
     "output_type": "execute_result"
    }
   ],
   "source": [
    "import numpy as np\n",
    "MAX_NUMBER_OBSTACLES = 10\n",
    "[np.inf] * MAX_NUMBER_OBSTACLES"
   ]
  }
 ],
 "metadata": {
  "kernelspec": {
   "display_name": "Python 3",
   "language": "python",
   "name": "python3"
  },
  "language_info": {
   "codemirror_mode": {
    "name": "ipython",
    "version": 3
   },
   "file_extension": ".py",
   "mimetype": "text/x-python",
   "name": "python",
   "nbconvert_exporter": "python",
   "pygments_lexer": "ipython3",
   "version": "3.10.12"
  }
 },
 "nbformat": 4,
 "nbformat_minor": 2
}
