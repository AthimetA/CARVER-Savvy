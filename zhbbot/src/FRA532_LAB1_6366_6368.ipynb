{
 "cells": [
  {
   "cell_type": "markdown",
   "metadata": {},
   "source": [
    "> # FRA532 MOBILE ROBOT\n",
    "> # LAB1: Local Planner\n",
    "> **Sirawich Lousomboon 63340500066** <br>\n",
    "> **Athimet Aiewcharoen 63340500068** <br>"
   ]
  },
  {
   "cell_type": "markdown",
   "metadata": {},
   "source": [
    "> ## Launch procedure"
   ]
  },
  {
   "cell_type": "markdown",
   "metadata": {},
   "source": [
    "- ros2 launch zhbbot_control zhbbot_velo_drive_con.launch.py \n",
    "- ros2 launch zhbbot_control zhbbot_rviz_nav2.launch.py \n",
    "- ros2 service call /zhbbot_service/user_setgoal zhbbot_interfaces/srv/ZhbbotUserSetgoal \"{x: 0.0, y: 5.0, theta: 0.0}\"\n",
    "\n",
    "\n",
    "You can Edit local planer mode by modify zhbbot_control_params.yaml in zhbbot_control/config\n",
    "\n",
    "\n",
    "<center> <img src=\"Pic/selectlocalplaner.png\"/> </center>"
   ]
  },
  {
   "cell_type": "markdown",
   "metadata": {},
   "source": [
    "> ## Algorithm 1: Pure-Pursuit with VFF Avoidance"
   ]
  },
  {
   "cell_type": "markdown",
   "metadata": {},
   "source": [
    "### System Architecture\n"
   ]
  },
  {
   "cell_type": "markdown",
   "metadata": {},
   "source": [
    "<center> <img src=\"Pic/PurePursuitVFF.png\"/> </center>"
   ]
  },
  {
   "cell_type": "markdown",
   "metadata": {},
   "source": [
    "**System Architecture**\n",
    "\n",
    "The system consist of 5 Nodes which are:\n",
    "1. zhbbot_handler\n",
    "2. zhbbot_local_planner_vff_avoidance\n",
    "3. zhbbot_inverse_kinematic\n",
    "4. zhbbot_forward_kinematic\n",
    "5. Gazebo Simulation\n"
   ]
  },
  {
   "cell_type": "markdown",
   "metadata": {},
   "source": [
    "### Node Algorithm"
   ]
  },
  {
   "cell_type": "markdown",
   "metadata": {},
   "source": [
    "**zhbbot_handler**\n",
    "\n",
    "This node acts as a handler of a system which will receive a goal position (x,y) from a user. The user can input or config the goal position by calling the service through the topic \"/zhbbot_service/user_setgoal\" through the 2 arguments given which are x and y coordinate. After that, this service will response to ensure that this node receive the coordinate correctly.\n",
    "\n",
    "After received the goal position from a user. This node will compute that robot path by using ComputePathtoPose from NAV2 Action Server and after that it will sent the robot path to Local Planner Node through the service called \"/zhbbot_service/send_path\""
   ]
  },
  {
   "cell_type": "markdown",
   "metadata": {},
   "source": [
    "**zhbbot_local_planner_vff_avoidance**\n",
    "\n",
    "This node is a Local Planner Node that will receive a robot path from handler. After that, this node will create a local planner for a robot path by breaking down the robot path into many robot sub-paths and calculate the robot linear velocity (x-coordinate) and angular velocity (z-coordinate) for each sub-path from 2 algorithm which are:\n",
    "1. Pure-Pursuit Algorithm\n",
    "2. Virtual Force Field Obstacle Avoidance (VFF Avoidance)\n",
    "\n",
    "Pure-Pursuit Algorithm\n",
    "The Pure-Pursuit Algorithm is a path tracking technique used to navigate along a robot sub-paths. This algorithm starts by selecting a point within the search radius around the robot and choose it as a pursuit point. After that this algorithm will sent the coordinate of the pursuit point to the VFF Avoidance Algorithm to calculate the linear velocity and angular velocity for a robot to move to a pursuit point. When the robot moves until the next point in the robot sub-paths is withing the search radius, the algorithm will change the pursuit point to the next point. This algorithm loops until it reach the goal position.\n",
    "\n",
    "Virtual Force Field Obstacle Avoidance\n",
    "The VFF Avoidance Algorithm is a vector-base local planner which helps the robot to avoid the obstacle. The algorithm receives a pursuit point from a Pure-Pursuit Algorithm and robot position from robot odom to calculate the vector that leads to a pursuit point called \"Pursuit Vector\" (Attractive Vector). After that, it will check if there is an obstacle near the robot. If there is one, the algorithm will finds the nearest obstacle by getting the scan data from the Lidar Sensor from the topic \"/scan\" and calculate the vector that leads to the opposite side of an obstacle called \"Avoidance Vector\" (Repulsive Vector). Then the algorithm will combine these 2 vectors to create a \"Result Vector\" which is a vector that leads a robot to a pursuit point and avoid the obstacle at the same time. Finally, the algorithm will calculate the Linear Velocity and Angular Velocity and publish them along the topic \"/diff_drive_zhbbot\""
   ]
  },
  {
   "cell_type": "markdown",
   "metadata": {},
   "source": [
    "**zhbbot_inverse_kinematic**\n",
    "\n",
    "This node is a kinematic node that will compute wheels velocity from a Linear Velocity and Angular Velocity sent by local planner node. The node calculated by using the Inverse Kinematic Method for a velocity controller to control the robot in Gazebo System Simulation. After the algorithm done calculating, it will publish the wheels velocity to a velocity command of a velocity controller through the topic \"velocity_cont/comm\""
   ]
  },
  {
   "cell_type": "markdown",
   "metadata": {},
   "source": [
    "**zhbbot_forward_kinematic**\n",
    "\n",
    "This node is a kinematic node that will receive a Wheels Velocity from Gazebo Simulation through the topic \"/joint_states\" to compute wheels odometry. It starts by calculating Linear Velocity and Angular Velocity of a robot in Gazebo Simulation. And after that, it will compute the wheels odometry and sent it to the EKF Localization through the topic \"/zhbbot_wheel/odom\".\n",
    "\n",
    "The Extended Kalman Filter Localization will receive wheels odometry and calculate the Robot Position and Orientation (Robot Odometry) by using the EKF Localization method. Then it will publish robot odometry through the topic \"/odometry/local\""
   ]
  },
  {
   "cell_type": "markdown",
   "metadata": {},
   "source": [
    "> ## Algorithm 2: Dynamic Window Approach"
   ]
  },
  {
   "cell_type": "markdown",
   "metadata": {},
   "source": [
    "### System Architecture"
   ]
  },
  {
   "cell_type": "markdown",
   "metadata": {},
   "source": [
    "<center> <img src=\"Pic/DynamicWindowApproach.png\"/> </center>"
   ]
  },
  {
   "cell_type": "markdown",
   "metadata": {},
   "source": [
    "**System Architecture**\n",
    "\n",
    "The system consist of 5 Nodes which are:\n",
    "1. zhbbot_handler\n",
    "2. zhbbot_local_planner_dwa\n",
    "3. zhbbot_inverse_kinematic\n",
    "4. zhbbot_forward_kinematic\n",
    "5. Gazebo Simulation\n",
    "\n",
    "All the nodes acts the same as Pure-Pursuit VFF Algorithm except zhbbot_local_planner_dwa"
   ]
  },
  {
   "cell_type": "markdown",
   "metadata": {},
   "source": [
    "### Node Algorithm"
   ]
  },
  {
   "cell_type": "markdown",
   "metadata": {},
   "source": [
    "**zhbbot_local_planner_dwa**\n",
    "\n",
    "This node is a Local Planner Node that will receive a robot path from handler. After that, this node will create a local planner for a robot path by breaking down the robot path into many robot sub-paths and calculate the robot linear velocity (x-coordinate) and angular velocity (z-coordinate) for each sub-path by using Dynamic Window Approach.\n",
    "\n",
    "The Dynamic Window Approach will select the pursuit point (as same as Pure-Pursuit Algorithm) and then it will generates many future robot paths. After that it will select the best path by selecting the lowest cost path after done calculating the cost of travelling through each path. The cost of each path is determined by 1. the distance left between the future position and the goal 2. the distance apart from the obstacle (if the path contain or near the obstacle). After done selecting, the algorithm will calculate Linear Velocity and Angular Velocity for that path and publish through the topic \"/diff_drive_zhbbot\". This loop goes on until the robot reaches the goal position."
   ]
  },
  {
   "cell_type": "markdown",
   "metadata": {},
   "source": [
    "<center> <img src=\"Pic/DWA_psuedo1.png\"/> </center>\n",
    "<center> Dynamic Window Approach Pseudocode #1 </center>"
   ]
  },
  {
   "cell_type": "markdown",
   "metadata": {},
   "source": [
    "<center> <img src=\"Pic/DWA_psuedo2.png\"/> </center>\n",
    "<center> Dynamic Window Approach Pseudocode #2 </center>"
   ]
  },
  {
   "cell_type": "markdown",
   "metadata": {},
   "source": [
    "<center> <img src=\"Pic/DWA_psuedo3.png\"/> </center>\n",
    "<center> Dynamic Window Approach Pseudocode #3 </center>"
   ]
  },
  {
   "cell_type": "markdown",
   "metadata": {},
   "source": [
    "> ## Experimentation"
   ]
  },
  {
   "cell_type": "markdown",
   "metadata": {},
   "source": [
    "### Introduction"
   ]
  },
  {
   "cell_type": "markdown",
   "metadata": {},
   "source": [
    "Pure-Pursuit with VFF Avoidance and Dynamic Window Approach, Both are the algorithms used to create a local planner for a Mobile Robot. To test the efficacy of the algorithm, we implimented both of the algorithms with a robot running in simulation using Gazebo simulation and launch Rviz2 for monitorize."
   ]
  },
  {
   "cell_type": "markdown",
   "metadata": {},
   "source": [
    "### Method"
   ]
  },
  {
   "cell_type": "markdown",
   "metadata": {},
   "source": [
    "The experiment will break down into 2 parts\n",
    "1. Square Testing: To test the accuracy of the algorithm. We will control the robot to follow the square path by using each of the algorithm. After it reached the goal position, we will collect the position data from gazebo and compare it with the command position.\n",
    "2. Obstacle Avoidance Testing: To test whether the algorithm can avoid the obstacle or not, we will command the robot to follow the path which has an obstacle and see if the robot can avoid the obstacle and still manage to continue the path until it reach the goal position."
   ]
  },
  {
   "cell_type": "markdown",
   "metadata": {},
   "source": [
    "### Result"
   ]
  },
  {
   "cell_type": "markdown",
   "metadata": {},
   "source": [
    "**Square Testing**\n",
    "\n",
    "After running test for 5 rounds per algorithm. The Pure-Pursuit with VFF Avoidance Algorithm can navigate through the course correctly with the estimated error around 0.015 meter. The Dynamic Window Approach Algorithm can navigate through the course correctly with the estimated error around 0.034 meter."
   ]
  },
  {
   "cell_type": "markdown",
   "metadata": {},
   "source": [
    "<center> <img src=\"Pic/PPS_table.png\"/> </center>\n",
    "<center> Pure-Pursuit with VFF Avoidance Result Table #1 </center>"
   ]
  },
  {
   "cell_type": "markdown",
   "metadata": {},
   "source": [
    "<center> <img src=\"Pic/DWA_table.png\"/> </center>\n",
    "<center> Dynamic Window Approach Result Table #1 </center>"
   ]
  },
  {
   "cell_type": "markdown",
   "metadata": {},
   "source": [
    "<center> <img src=\"Pic/PPS_square1.png\"/> </center>\n",
    "<center> Pure-Pursuit with VFF Avoidance testing with square path #1 </center>"
   ]
  },
  {
   "cell_type": "markdown",
   "metadata": {},
   "source": [
    "<center> <img src=\"Pic/DWA_square1.png\"/> </center>\n",
    "<center> Dynamic Window Approach testing with square path #1 </center>"
   ]
  },
  {
   "cell_type": "markdown",
   "metadata": {},
   "source": [
    "**Obstacle Avoidance Testing**\n",
    "\n",
    "After running the test for 10 times, both of the algorithm managed to follow the path until the robot reached the goal point and avoided colliding with the obstacle set on the map. The different between both algorithm is that the Dynamic Window Approach algorithm used more time to avoid the obstacle and continue the path until it reach the goal point because this method use more time to calculate the cost of each path (More Path = More Run Time)."
   ]
  },
  {
   "cell_type": "markdown",
   "metadata": {},
   "source": [
    "<center> <img src=\"Pic/PPStest1_1.png\"/> </center>\n",
    "<center> Pure-Pursuit with VFF Avoidance testing with obstacle #1 </center>"
   ]
  },
  {
   "cell_type": "markdown",
   "metadata": {},
   "source": [
    "<center> <img src=\"Pic/PPStest1_2.png\"/> </center>\n",
    "<center> Pure-Pursuit with VFF Avoidance testing with obstacle #1 </center>"
   ]
  },
  {
   "cell_type": "markdown",
   "metadata": {},
   "source": [
    "<center> <img src=\"Pic/PPStest2_1.png\"/> </center>\n",
    "<center> Pure-Pursuit with VFF Avoidance testing with obstacle #2 </center>"
   ]
  },
  {
   "cell_type": "markdown",
   "metadata": {},
   "source": [
    "<center> <img src=\"Pic/PPStest2_1.png\"/> </center>\n",
    "<center> Pure-Pursuit with VFF Avoidance testing with obstacle #2 </center>"
   ]
  },
  {
   "cell_type": "markdown",
   "metadata": {},
   "source": [
    "<center> <img src=\"Pic/DWAtest1_1.png\"/> </center>\n",
    "<center> Dynamic Window Approach testing with obstacle #1 </center>"
   ]
  },
  {
   "cell_type": "markdown",
   "metadata": {},
   "source": [
    "<center> <img src=\"Pic/DWAtest1_2.png\"/> </center>\n",
    "<center> Dynamic Window Approach testing with obstacle #1 </center>"
   ]
  },
  {
   "cell_type": "markdown",
   "metadata": {},
   "source": [
    "<center> <img src=\"Pic/DWAtest2_1.png\"/> </center>\n",
    "<center> Dynamic Window Approach testing with obstacle #2 </center>"
   ]
  },
  {
   "cell_type": "markdown",
   "metadata": {},
   "source": [
    "<center> <img src=\"Pic/DWAtest2_2.png\"/> </center>\n",
    "<center> Dynamic Window Approach testing with obstacle #2 </center>"
   ]
  },
  {
   "cell_type": "markdown",
   "metadata": {},
   "source": [
    "### Conclusion"
   ]
  },
  {
   "cell_type": "markdown",
   "metadata": {},
   "source": [
    "From the test result, the Pure-Pursuit with VFF Avoidance Algorithm manage to navigates through the course better than the Dynamic Window Approach Algorithm with better run time and position error. In addition, both algorithms did well in the obstacle avoidance test but Dynamic Window Approach Algorithm used more time to avoid the obstacle and continue the path until it reach the goal point than Pure-Pursuit with VFF Avoidance Algorithm."
   ]
  }
 ],
 "metadata": {
  "kernelspec": {
   "display_name": "Python 3",
   "language": "python",
   "name": "python3"
  },
  "language_info": {
   "codemirror_mode": {
    "name": "ipython",
    "version": 3
   },
   "file_extension": ".py",
   "mimetype": "text/x-python",
   "name": "python",
   "nbconvert_exporter": "python",
   "pygments_lexer": "ipython3",
   "version": "3.10.12"
  }
 },
 "nbformat": 4,
 "nbformat_minor": 2
}
